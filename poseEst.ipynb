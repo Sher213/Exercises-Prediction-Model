{
 "cells": [
  {
   "cell_type": "markdown",
   "metadata": {},
   "source": [
    "## Analysis and Modeling of Exercise Images with Pose Estimation from MediaPipe and OpenCV\n",
    "\n",
    "This notebook will delve into the analysis and modeling of various exercise images using different python libraries, including mediapipe, openCV, and pandas."
   ]
  },
  {
   "cell_type": "code",
   "execution_count": 120,
   "metadata": {},
   "outputs": [
    {
     "data": {
      "text/html": [
       "<div>\n",
       "<style scoped>\n",
       "    .dataframe tbody tr th:only-of-type {\n",
       "        vertical-align: middle;\n",
       "    }\n",
       "\n",
       "    .dataframe tbody tr th {\n",
       "        vertical-align: top;\n",
       "    }\n",
       "\n",
       "    .dataframe thead th {\n",
       "        text-align: right;\n",
       "    }\n",
       "</style>\n",
       "<table border=\"1\" class=\"dataframe\">\n",
       "  <thead>\n",
       "    <tr style=\"text-align: right;\">\n",
       "      <th></th>\n",
       "      <th>imageName</th>\n",
       "      <th>base64encoded</th>\n",
       "      <th>imageWidth</th>\n",
       "      <th>imageHeight</th>\n",
       "      <th>poseLandmarks</th>\n",
       "      <th>excercise</th>\n",
       "    </tr>\n",
       "  </thead>\n",
       "  <tbody>\n",
       "    <tr>\n",
       "      <th>0</th>\n",
       "      <td>full-body-person-doing-pushup0.jpeg</td>\n",
       "      <td>b'/9j/4AAQSkZJRgABAQAAAQABAAD/2wCEAAkGBxAQERMT...</td>\n",
       "      <td>183</td>\n",
       "      <td>275</td>\n",
       "      <td>['x: 0.7909860014915466,y: 0.2797396183013916,...</td>\n",
       "      <td>pushup</td>\n",
       "    </tr>\n",
       "    <tr>\n",
       "      <th>1</th>\n",
       "      <td>full-body-person-doing-pushup1.jpeg</td>\n",
       "      <td>b'/9j/4AAQSkZJRgABAQAAAQABAAD/2wCEAAoHCBYWFRgW...</td>\n",
       "      <td>244</td>\n",
       "      <td>206</td>\n",
       "      <td>['x: 0.5600898265838623,y: 0.5534414052963257,...</td>\n",
       "      <td>pushup</td>\n",
       "    </tr>\n",
       "    <tr>\n",
       "      <th>2</th>\n",
       "      <td>full-body-person-doing-pushup10.jpeg</td>\n",
       "      <td>b'/9j/4AAQSkZJRgABAQAAAQABAAD/2wCEAAoHCBYWFRUW...</td>\n",
       "      <td>167</td>\n",
       "      <td>302</td>\n",
       "      <td>['x: 0.4751896560192108,y: 0.4453135132789612,...</td>\n",
       "      <td>pushup</td>\n",
       "    </tr>\n",
       "    <tr>\n",
       "      <th>3</th>\n",
       "      <td>full-body-person-doing-pushup100.jpeg</td>\n",
       "      <td>b'/9j/4AAQSkZJRgABAQAAAQABAAD/2wCEAAoHCBUVFRgW...</td>\n",
       "      <td>183</td>\n",
       "      <td>275</td>\n",
       "      <td>['x: 0.4743218421936035,y: 0.5276893377304077,...</td>\n",
       "      <td>pushup</td>\n",
       "    </tr>\n",
       "    <tr>\n",
       "      <th>4</th>\n",
       "      <td>full-body-person-doing-pushup101.jpeg</td>\n",
       "      <td>b'/9j/4AAQSkZJRgABAQAAAQABAAD/2wCEAAkGBxIREhUT...</td>\n",
       "      <td>225</td>\n",
       "      <td>225</td>\n",
       "      <td>NaN</td>\n",
       "      <td>pushup</td>\n",
       "    </tr>\n",
       "  </tbody>\n",
       "</table>\n",
       "</div>"
      ],
      "text/plain": [
       "                               imageName  \\\n",
       "0    full-body-person-doing-pushup0.jpeg   \n",
       "1    full-body-person-doing-pushup1.jpeg   \n",
       "2   full-body-person-doing-pushup10.jpeg   \n",
       "3  full-body-person-doing-pushup100.jpeg   \n",
       "4  full-body-person-doing-pushup101.jpeg   \n",
       "\n",
       "                                       base64encoded  imageWidth  imageHeight  \\\n",
       "0  b'/9j/4AAQSkZJRgABAQAAAQABAAD/2wCEAAkGBxAQERMT...         183          275   \n",
       "1  b'/9j/4AAQSkZJRgABAQAAAQABAAD/2wCEAAoHCBYWFRgW...         244          206   \n",
       "2  b'/9j/4AAQSkZJRgABAQAAAQABAAD/2wCEAAoHCBYWFRUW...         167          302   \n",
       "3  b'/9j/4AAQSkZJRgABAQAAAQABAAD/2wCEAAoHCBUVFRgW...         183          275   \n",
       "4  b'/9j/4AAQSkZJRgABAQAAAQABAAD/2wCEAAkGBxIREhUT...         225          225   \n",
       "\n",
       "                                       poseLandmarks excercise  \n",
       "0  ['x: 0.7909860014915466,y: 0.2797396183013916,...    pushup  \n",
       "1  ['x: 0.5600898265838623,y: 0.5534414052963257,...    pushup  \n",
       "2  ['x: 0.4751896560192108,y: 0.4453135132789612,...    pushup  \n",
       "3  ['x: 0.4743218421936035,y: 0.5276893377304077,...    pushup  \n",
       "4                                                NaN    pushup  "
      ]
     },
     "execution_count": 120,
     "metadata": {},
     "output_type": "execute_result"
    }
   ],
   "source": [
    "import warnings\n",
    "import pandas as pd\n",
    "\n",
    "warnings.filterwarnings('ignore')\n",
    "\n",
    "#read data and take a look\n",
    "df = pd.read_csv('imagePoses.csv')\n",
    "df.head()\n"
   ]
  },
  {
   "cell_type": "markdown",
   "metadata": {},
   "source": [
    "### Here is an example of the images used:"
   ]
  },
  {
   "cell_type": "code",
   "execution_count": 121,
   "metadata": {},
   "outputs": [
    {
     "data": {
      "image/jpeg": "[encoded data removed]",
      "text/plain": [
       "<IPython.core.display.Image object>"
      ]
     },
     "execution_count": 121,
     "metadata": {},
     "output_type": "execute_result"
    }
   ],
   "source": [
    "from base64 import b64decode\n",
    "from IPython import display\n",
    "\n",
    "#decode from base64\n",
    "imgB64 = df['base64encoded'][0][2:]\n",
    "imgStr = b64decode(imgB64)\n",
    "display.Image(imgStr)"
   ]
  },
  {
   "cell_type": "markdown",
   "metadata": {},
   "source": [
    "### An example of the image with the pose estimation:"
   ]
  },
  {
   "cell_type": "code",
   "execution_count": 122,
   "metadata": {},
   "outputs": [
    {
     "data": {
      "text/plain": [
       "[['x: 0.7909860014915466',\n",
       "  'y: 0.2797396183013916',\n",
       "  'z: -0.7337014675140381',\n",
       "  'visibility: 0.9999721050262451'],\n",
       " ['x: 0.786137580871582',\n",
       "  'y: 0.24491778016090393',\n",
       "  'z: -0.699945330619812',\n",
       "  'visibility: 0.999929666519165'],\n",
       " ['x: 0.7857223749160767',\n",
       "  'y: 0.2434578835964203',\n",
       "  'z: -0.6998971700668335',\n",
       "  'visibility: 0.9999117851257324'],\n",
       " ['x: 0.7850363254547119',\n",
       "  'y: 0.2417711317539215',\n",
       "  'z: -0.7000457644462585',\n",
       "  'visibility: 0.9999598264694214'],\n",
       " ['x: 0.7788354158401489',\n",
       "  'y: 0.24451936781406403',\n",
       "  'z: -0.7689036726951599',\n",
       "  'visibility: 0.9999768733978271']]"
      ]
     },
     "execution_count": 122,
     "metadata": {},
     "output_type": "execute_result"
    }
   ],
   "source": [
    "#function to clean landmarks\n",
    "def cleanPLs(lm):\n",
    "    a = lm.replace(\"'\", '').replace('\"', '').strip('][').split(',')\n",
    "    while ('' in a):\n",
    "        a.remove('')\n",
    "    cleanLM = []\n",
    "    for i in range(0, len(a) - 4, 4):\n",
    "        a[i] = a[i].strip()\n",
    "        cleanLM.append([a[i], a[i+1], a[i+2], a[i+3]])\n",
    "    return cleanLM\n",
    "\n",
    "cleanLandmarks = cleanPLs(df['poseLandmarks'][0])\n",
    "cleanLandmarks[:5]"
   ]
  },
  {
   "cell_type": "code",
   "execution_count": 123,
   "metadata": {},
   "outputs": [
    {
     "data": {
      "image/png": "[encoded data removed]",
      "text/plain": [
       "<Figure size 432x288 with 1 Axes>"
      ]
     },
     "metadata": {
      "needs_background": "light"
     },
     "output_type": "display_data"
    }
   ],
   "source": [
    "import numpy as np\n",
    "from matplotlib import pyplot as plt\n",
    "import cv2\n",
    "\n",
    "#convert from bytestring to cv image\n",
    "nparr = np.fromstring(imgStr, np.uint8)\n",
    "imgPose = cv2.imdecode(nparr, cv2.IMREAD_COLOR)\n",
    "\n",
    "#loop thru landmarks\n",
    "for lm in cleanLandmarks:\n",
    "    h, w, c = imgPose.shape\n",
    "    #strip digits and convert to x, y floats\n",
    "    x = float(lm[0].replace('x: ', ''))\n",
    "    y = float(lm[1].replace('y: ', ''))\n",
    "    #multiply and create shapes on image\n",
    "    cx, cy = int(x*w), int(y*h)\n",
    "    cv2.circle(imgPose, (cx, cy), 5, (0,0,255), cv2.FILLED)\n",
    "\n",
    "plt.imshow(imgPose)\n",
    "plt.title('Image with Pose Estimation')\n",
    "plt.axis('off')\n",
    "plt.show()"
   ]
  },
  {
   "cell_type": "markdown",
   "metadata": {},
   "source": [
    "As we can see, the image can be reproduced from the data, and its pose estimation can be visualized. No need for additional data, just some tweaking.\n",
    "<hr>"
   ]
  },
  {
   "cell_type": "markdown",
   "metadata": {},
   "source": [
    "### Removing null values:"
   ]
  },
  {
   "cell_type": "code",
   "execution_count": 124,
   "metadata": {},
   "outputs": [
    {
     "data": {
      "text/plain": [
       "imageName          0\n",
       "base64encoded      0\n",
       "imageWidth         0\n",
       "imageHeight        0\n",
       "poseLandmarks    860\n",
       "excercise          0\n",
       "dtype: int64"
      ]
     },
     "execution_count": 124,
     "metadata": {},
     "output_type": "execute_result"
    }
   ],
   "source": [
    "#look at how many nulls there are\n",
    "df.isna().sum()"
   ]
  },
  {
   "cell_type": "code",
   "execution_count": 125,
   "metadata": {},
   "outputs": [],
   "source": [
    "#drop nullities\n",
    "df = df.dropna()"
   ]
  },
  {
   "cell_type": "code",
   "execution_count": 126,
   "metadata": {},
   "outputs": [
    {
     "data": {
      "text/plain": [
       "imageName        0\n",
       "base64encoded    0\n",
       "imageWidth       0\n",
       "imageHeight      0\n",
       "poseLandmarks    0\n",
       "excercise        0\n",
       "dtype: int64"
      ]
     },
     "execution_count": 126,
     "metadata": {},
     "output_type": "execute_result"
    }
   ],
   "source": [
    "df.isna().sum()"
   ]
  },
  {
   "cell_type": "code",
   "execution_count": 134,
   "metadata": {},
   "outputs": [
    {
     "data": {
      "text/plain": [
       "lunges            333\n",
       "squat             330\n",
       "plank             320\n",
       "pullup            315\n",
       "pushup            309\n",
       "shoulder press    286\n",
       "chest dips        272\n",
       "bent over row     246\n",
       "glute bridge      230\n",
       "Name: excercise, dtype: int64"
      ]
     },
     "execution_count": 134,
     "metadata": {},
     "output_type": "execute_result"
    }
   ],
   "source": [
    "#have a look at the number of different exercises\n",
    "df['excercise'].value_counts()"
   ]
  },
  {
   "cell_type": "markdown",
   "metadata": {},
   "source": [
    "<hr>"
   ]
  },
  {
   "cell_type": "code",
   "execution_count": 127,
   "metadata": {},
   "outputs": [],
   "source": [
    "#clean all pose landmarks\n",
    "df['poseLandmarks'] = df['poseLandmarks'].apply(lambda x : cleanPLs(x))"
   ]
  },
  {
   "cell_type": "markdown",
   "metadata": {},
   "source": [
    "Create a new column storing the pose landmarks value as floats. This will make modeling much easier:"
   ]
  },
  {
   "cell_type": "code",
   "execution_count": 221,
   "metadata": {},
   "outputs": [
    {
     "data": {
      "text/plain": [
       "0    [0.7909860014915466, 0.2797396183013916, -0.73...\n",
       "1    [0.5600898265838623, 0.5534414052963257, 0.032...\n",
       "2    [0.4751896560192108, 0.4453135132789612, -0.55...\n",
       "3    [0.4743218421936035, 0.5276893377304077, -0.40...\n",
       "5    [0.7754234671592712, 0.4600318968296051, -0.41...\n",
       "Name: poseAsFloats, dtype: object"
      ]
     },
     "execution_count": 221,
     "metadata": {},
     "output_type": "execute_result"
    }
   ],
   "source": [
    "#create new column of only float values\n",
    "def poseToFloats(lm):\n",
    "    res = []\n",
    "    for i in lm:\n",
    "        x = float(i[0].replace('x: ', ''))\n",
    "        y = float(i[1].replace('y: ', ''))\n",
    "        z = float(i[2].replace('z: ', ''))\n",
    "        v = float(i[3].replace('visibility: ', ''))\n",
    "        res.append(x)\n",
    "        res.append(y)\n",
    "        res.append(z)\n",
    "        res.append(v)\n",
    "    return res\n",
    "    \n",
    "#add new column\n",
    "df['poseAsFloats'] = df['poseLandmarks'].apply(lambda x : poseToFloats(x))\n",
    "df['poseAsFloats'].head()"
   ]
  },
  {
   "cell_type": "markdown",
   "metadata": {},
   "source": [
    "<hr>"
   ]
  },
  {
   "cell_type": "markdown",
   "metadata": {},
   "source": [
    "### Beginning modeling\n",
    "\n",
    "First, let's do train/test split:"
   ]
  },
  {
   "cell_type": "code",
   "execution_count": 222,
   "metadata": {},
   "outputs": [],
   "source": [
    "#function to encode target\n",
    "def exerciseToInt(x):\n",
    "    if x == 'pushup':\n",
    "        x = 0\n",
    "    elif x == 'bent over row':\n",
    "        x = 1\n",
    "    elif x == 'chest dips':\n",
    "        x = 2\n",
    "    elif x == 'glute bridge':\n",
    "        x = 3\n",
    "    elif x == 'lunges':\n",
    "        x = 4\n",
    "    elif x == 'plank':\n",
    "        x = 5\n",
    "    elif x == 'pullup':\n",
    "        x = 6\n",
    "    elif x == 'shoulder press':\n",
    "        x = 7\n",
    "    elif x == 'squat':\n",
    "        x = 8\n",
    "    return x"
   ]
  },
  {
   "cell_type": "code",
   "execution_count": 223,
   "metadata": {},
   "outputs": [],
   "source": [
    "#create columns for poses data\n",
    "col = []\n",
    "for i in range(32):\n",
    "    col.append('x_data' + str(i))\n",
    "    col.append('y_data' + str(i))\n",
    "    col.append('z_data' + str(i))\n",
    "    col.append('v_data' + str(i))\n",
    "\n",
    "df_enc = pd.DataFrame(df['poseAsFloats'].to_list(), columns=col)\n",
    "\n",
    "#feature\n",
    "feature = df_enc\n",
    "#target\n",
    "target = df['excercise'].apply(lambda x : exerciseToInt(x))"
   ]
  },
  {
   "cell_type": "code",
   "execution_count": 224,
   "metadata": {},
   "outputs": [
    {
     "name": "stdout",
     "output_type": "stream",
     "text": [
      "Shape of training feature: (2112, 128)\n",
      "Shape of testing feature: (529, 128)\n",
      "Shape of training target: (2112,)\n",
      "Shape of testing target: (529,)\n"
     ]
    }
   ],
   "source": [
    "from sklearn.model_selection import train_test_split\n",
    "\n",
    "X_train, X_test, y_train, y_test = train_test_split(feature, target,\n",
    "                                                    shuffle=True,\n",
    "                                                    test_size=0.2,\n",
    "                                                    random_state=1)\n",
    "# Show the Training and Testing Data\n",
    "print('Shape of training feature:', X_train.shape)\n",
    "print('Shape of testing feature:', X_test.shape)\n",
    "print('Shape of training target:', y_train.shape)\n",
    "print('Shape of testing target:', y_test.shape)"
   ]
  },
  {
   "cell_type": "markdown",
   "metadata": {},
   "source": [
    "<hr>"
   ]
  },
  {
   "cell_type": "markdown",
   "metadata": {},
   "source": [
    "A function to evaluate our model, thanks to Rafi Atha, his article is at: https://medium.com/analytics-vidhya/building-classification-model-with-python-9bdfc13faa4b"
   ]
  },
  {
   "cell_type": "code",
   "execution_count": 225,
   "metadata": {},
   "outputs": [],
   "source": [
    "def evaluate_model(model, x_test, y_test):\n",
    "    from sklearn import metrics\n",
    "\n",
    "    # Predict Test Data \n",
    "    y_pred = model.predict(x_test)\n",
    "\n",
    "    # Calculate accuracy, precision, recall, f1-score, and kappa score\n",
    "    acc = metrics.accuracy_score(y_test, y_pred)\n",
    "    prec = metrics.precision_score(y_test, y_pred, average='micro')\n",
    "    rec = metrics.recall_score(y_test, y_pred, average='micro')\n",
    "    f1 = metrics.f1_score(y_test, y_pred, average='micro')\n",
    "    kappa = metrics.cohen_kappa_score(y_test, y_pred)\n",
    "\n",
    "    # Calculate area under curve (AUC)\n",
    "    y_pred_proba = model.predict_proba(x_test)[::,1]\n",
    "    auc = 0# metrics.roc_auc_score(y_test, y_pred_proba, multi_class='ovr')\n",
    "\n",
    "    # Display confussion matrix\n",
    "    cm = metrics.confusion_matrix(y_test, y_pred)\n",
    "\n",
    "    return {'acc': acc, 'prec': prec, 'rec': rec, 'f1': f1, 'kappa': kappa, \n",
    "            'auc': auc, 'cm': cm}"
   ]
  },
  {
   "cell_type": "markdown",
   "metadata": {},
   "source": [
    "<hr>"
   ]
  },
  {
   "cell_type": "code",
   "execution_count": 232,
   "metadata": {},
   "outputs": [
    {
     "name": "stdout",
     "output_type": "stream",
     "text": [
      "Fitting 5 folds for each of 243 candidates, totalling 1215 fits\n"
     ]
    },
    {
     "data": {
      "text/plain": [
       "{'max_depth': 50,\n",
       " 'max_features': 2,\n",
       " 'min_samples_leaf': 3,\n",
       " 'min_samples_split': 8,\n",
       " 'n_estimators': 100}"
      ]
     },
     "execution_count": 232,
     "metadata": {},
     "output_type": "execute_result"
    }
   ],
   "source": [
    "from sklearn.ensemble import RandomForestClassifier\n",
    "from sklearn.model_selection import GridSearchCV\n",
    "\n",
    "# Create the parameter grid based on the results of random search \n",
    "param_grid = {\n",
    "    'max_depth': [50, 80, 100],\n",
    "    'max_features': [2, 3, 4],\n",
    "    'min_samples_leaf': [3, 4, 5],\n",
    "    'min_samples_split': [8, 10, 12],\n",
    "    'n_estimators': [100, 300, 500]\n",
    "}\n",
    "\n",
    "# Building Random Forest model \n",
    "rf_grids = RandomForestClassifier(random_state=0)\n",
    "# Initiate the grid search model\n",
    "grid_search = GridSearchCV(estimator=rf_grids, param_grid=param_grid, scoring='recall',\n",
    "                           cv=5, n_jobs=-1, verbose=2)\n",
    "\n",
    "grid_search.fit(X_train, y_train)\n",
    "\n",
    "grid_search.best_params_"
   ]
  },
  {
   "cell_type": "code",
   "execution_count": 231,
   "metadata": {},
   "outputs": [
    {
     "name": "stdout",
     "output_type": "stream",
     "text": [
      "Accuracy: 0.776937618147448\n",
      "Precision: 0.776937618147448\n",
      "Recall: 0.776937618147448\n",
      "F1 Score: 0.776937618147448\n",
      "Cohens Kappa Score: 0.7486844806969937\n",
      "Area Under Curve: 0\n",
      "Confusion Matrix:\n",
      " [[54  1  0  0  0  2  0  0  0]\n",
      " [ 0 41  6  0  0  2  0  0  2]\n",
      " [ 1  4 44  1  1  0  0  0  0]\n",
      " [ 1  2  1 36  6  4  0  0  1]\n",
      " [ 0  0  0  3 39  3  0  0 13]\n",
      " [ 2  2  0  7  0 55  0  0  0]\n",
      " [ 1  0  1  0  0  0 48 12  0]\n",
      " [ 0  1  2  0  0  0 11 42  2]\n",
      " [ 2  2  7  0  8  1  1  2 52]]\n"
     ]
    }
   ],
   "source": [
    "# Select best model with best fit\n",
    "best_grid = grid_search.best_estimator_\n",
    "\n",
    "# Evaluate Model\n",
    "best_grid_eval = evaluate_model(best_grid, X_test, y_test)\n",
    "\n",
    "# Print result\n",
    "print('Accuracy:', rf_eval['acc'])\n",
    "print('Precision:', rf_eval['prec'])\n",
    "print('Recall:', rf_eval['rec'])\n",
    "print('F1 Score:', rf_eval['f1'])\n",
    "print('Cohens Kappa Score:', rf_eval['kappa'])\n",
    "print('Area Under Curve:', rf_eval['auc'])\n",
    "print('Confusion Matrix:\\n', rf_eval['cm'])"
   ]
  }
 ],
 "metadata": {
  "kernelspec": {
   "display_name": "base",
   "language": "python",
   "name": "python3"
  },
  "language_info": {
   "codemirror_mode": {
    "name": "ipython",
    "version": 3
   },
   "file_extension": ".py",
   "mimetype": "text/x-python",
   "name": "python",
   "nbconvert_exporter": "python",
   "pygments_lexer": "ipython3",
   "version": "3.7.3"
  }
 },
 "nbformat": 4,
 "nbformat_minor": 2
}
