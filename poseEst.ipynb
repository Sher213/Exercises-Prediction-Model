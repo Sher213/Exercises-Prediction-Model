{
 "cells": [
  {
   "cell_type": "code",
   "execution_count": 4,
   "metadata": {},
   "outputs": [
    {
     "data": {
      "text/html": [
       "<div>\n",
       "<style scoped>\n",
       "    .dataframe tbody tr th:only-of-type {\n",
       "        vertical-align: middle;\n",
       "    }\n",
       "\n",
       "    .dataframe tbody tr th {\n",
       "        vertical-align: top;\n",
       "    }\n",
       "\n",
       "    .dataframe thead th {\n",
       "        text-align: right;\n",
       "    }\n",
       "</style>\n",
       "<table border=\"1\" class=\"dataframe\">\n",
       "  <thead>\n",
       "    <tr style=\"text-align: right;\">\n",
       "      <th></th>\n",
       "      <th>poseLandmarks</th>\n",
       "      <th>excercise</th>\n",
       "    </tr>\n",
       "  </thead>\n",
       "  <tbody>\n",
       "    <tr>\n",
       "      <th>0</th>\n",
       "      <td>['x: 0.', 'x: 0.', 'x: 0.', 'x: 0.', 'x: 0.', ...</td>\n",
       "      <td>pushup</td>\n",
       "    </tr>\n",
       "    <tr>\n",
       "      <th>1</th>\n",
       "      <td>['x: 0.', 'x: 0.', 'x: 0.', 'x: 0.', 'x: 0.', ...</td>\n",
       "      <td>pullup</td>\n",
       "    </tr>\n",
       "    <tr>\n",
       "      <th>2</th>\n",
       "      <td>['x: 0.', 'x: 0.', 'x: 0.', 'x: 0.', 'x: 0.', ...</td>\n",
       "      <td>chest dips</td>\n",
       "    </tr>\n",
       "    <tr>\n",
       "      <th>3</th>\n",
       "      <td>NaN</td>\n",
       "      <td>bent over row</td>\n",
       "    </tr>\n",
       "    <tr>\n",
       "      <th>4</th>\n",
       "      <td>['x: 0.', 'x: 0.', 'x: 0.', 'x: 0.', 'x: 0.', ...</td>\n",
       "      <td>shoulder press</td>\n",
       "    </tr>\n",
       "  </tbody>\n",
       "</table>\n",
       "</div>"
      ],
      "text/plain": [
       "                                       poseLandmarks       excercise\n",
       "0  ['x: 0.', 'x: 0.', 'x: 0.', 'x: 0.', 'x: 0.', ...          pushup\n",
       "1  ['x: 0.', 'x: 0.', 'x: 0.', 'x: 0.', 'x: 0.', ...          pullup\n",
       "2  ['x: 0.', 'x: 0.', 'x: 0.', 'x: 0.', 'x: 0.', ...      chest dips\n",
       "3                                                NaN   bent over row\n",
       "4  ['x: 0.', 'x: 0.', 'x: 0.', 'x: 0.', 'x: 0.', ...  shoulder press"
      ]
     },
     "execution_count": 4,
     "metadata": {},
     "output_type": "execute_result"
    }
   ],
   "source": [
    "import pandas as pd\n",
    "\n",
    "df = pd.read_csv('imagePoses.csv')\n",
    "\n",
    "df.head()\n"
   ]
  }
 ],
 "metadata": {
  "kernelspec": {
   "display_name": "base",
   "language": "python",
   "name": "python3"
  },
  "language_info": {
   "codemirror_mode": {
    "name": "ipython",
    "version": 3
   },
   "file_extension": ".py",
   "mimetype": "text/x-python",
   "name": "python",
   "nbconvert_exporter": "python",
   "pygments_lexer": "ipython3",
   "version": "3.7.3"
  }
 },
 "nbformat": 4,
 "nbformat_minor": 2
}
