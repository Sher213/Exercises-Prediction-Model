{
 "cells": [
  {
   "cell_type": "markdown",
   "metadata": {},
   "source": [
    "## Analysis and Modeling of Exercise Images with Pose Estimation from MediaPipe and OpenCV\n",
    "\n",
    "This notebook will delve into the analysis and modeling of various exercise images using different python libraries, including mediapipe, openCV, and pandas."
   ]
  },
  {
   "cell_type": "code",
   "execution_count": 38,
   "metadata": {},
   "outputs": [
    {
     "data": {
      "text/html": [
       "<div>\n",
       "<style scoped>\n",
       "    .dataframe tbody tr th:only-of-type {\n",
       "        vertical-align: middle;\n",
       "    }\n",
       "\n",
       "    .dataframe tbody tr th {\n",
       "        vertical-align: top;\n",
       "    }\n",
       "\n",
       "    .dataframe thead th {\n",
       "        text-align: right;\n",
       "    }\n",
       "</style>\n",
       "<table border=\"1\" class=\"dataframe\">\n",
       "  <thead>\n",
       "    <tr style=\"text-align: right;\">\n",
       "      <th></th>\n",
       "      <th>imageName</th>\n",
       "      <th>base64encoded</th>\n",
       "      <th>imageWidth</th>\n",
       "      <th>imageHeight</th>\n",
       "      <th>poseLandmarks</th>\n",
       "      <th>excercise</th>\n",
       "    </tr>\n",
       "  </thead>\n",
       "  <tbody>\n",
       "    <tr>\n",
       "      <th>0</th>\n",
       "      <td>full-body-person-doing-pushup0.jpeg</td>\n",
       "      <td>b'/9j/4AAQSkZJRgABAQAAAQABAAD/2wCEAAkGBxAQERMT...</td>\n",
       "      <td>183</td>\n",
       "      <td>275</td>\n",
       "      <td>['x: 0.7909860014915466,y: 0.2797396183013916,...</td>\n",
       "      <td>pushup</td>\n",
       "    </tr>\n",
       "    <tr>\n",
       "      <th>1</th>\n",
       "      <td>full-body-person-doing-pushup1.jpeg</td>\n",
       "      <td>b'/9j/4AAQSkZJRgABAQAAAQABAAD/2wCEAAoHCBYWFRgW...</td>\n",
       "      <td>244</td>\n",
       "      <td>206</td>\n",
       "      <td>['x: 0.5600898265838623,y: 0.5534414052963257,...</td>\n",
       "      <td>pushup</td>\n",
       "    </tr>\n",
       "    <tr>\n",
       "      <th>2</th>\n",
       "      <td>full-body-person-doing-pushup10.jpeg</td>\n",
       "      <td>b'/9j/4AAQSkZJRgABAQAAAQABAAD/2wCEAAoHCBYWFRUW...</td>\n",
       "      <td>167</td>\n",
       "      <td>302</td>\n",
       "      <td>['x: 0.4751896560192108,y: 0.4453135132789612,...</td>\n",
       "      <td>pushup</td>\n",
       "    </tr>\n",
       "    <tr>\n",
       "      <th>3</th>\n",
       "      <td>full-body-person-doing-pushup100.jpeg</td>\n",
       "      <td>b'/9j/4AAQSkZJRgABAQAAAQABAAD/2wCEAAoHCBUVFRgW...</td>\n",
       "      <td>183</td>\n",
       "      <td>275</td>\n",
       "      <td>['x: 0.4743218421936035,y: 0.5276893377304077,...</td>\n",
       "      <td>pushup</td>\n",
       "    </tr>\n",
       "    <tr>\n",
       "      <th>4</th>\n",
       "      <td>full-body-person-doing-pushup101.jpeg</td>\n",
       "      <td>b'/9j/4AAQSkZJRgABAQAAAQABAAD/2wCEAAkGBxIREhUT...</td>\n",
       "      <td>225</td>\n",
       "      <td>225</td>\n",
       "      <td>NaN</td>\n",
       "      <td>pushup</td>\n",
       "    </tr>\n",
       "  </tbody>\n",
       "</table>\n",
       "</div>"
      ],
      "text/plain": [
       "                               imageName  \\\n",
       "0    full-body-person-doing-pushup0.jpeg   \n",
       "1    full-body-person-doing-pushup1.jpeg   \n",
       "2   full-body-person-doing-pushup10.jpeg   \n",
       "3  full-body-person-doing-pushup100.jpeg   \n",
       "4  full-body-person-doing-pushup101.jpeg   \n",
       "\n",
       "                                       base64encoded  imageWidth  imageHeight  \\\n",
       "0  b'/9j/4AAQSkZJRgABAQAAAQABAAD/2wCEAAkGBxAQERMT...         183          275   \n",
       "1  b'/9j/4AAQSkZJRgABAQAAAQABAAD/2wCEAAoHCBYWFRgW...         244          206   \n",
       "2  b'/9j/4AAQSkZJRgABAQAAAQABAAD/2wCEAAoHCBYWFRUW...         167          302   \n",
       "3  b'/9j/4AAQSkZJRgABAQAAAQABAAD/2wCEAAoHCBUVFRgW...         183          275   \n",
       "4  b'/9j/4AAQSkZJRgABAQAAAQABAAD/2wCEAAkGBxIREhUT...         225          225   \n",
       "\n",
       "                                       poseLandmarks excercise  \n",
       "0  ['x: 0.7909860014915466,y: 0.2797396183013916,...    pushup  \n",
       "1  ['x: 0.5600898265838623,y: 0.5534414052963257,...    pushup  \n",
       "2  ['x: 0.4751896560192108,y: 0.4453135132789612,...    pushup  \n",
       "3  ['x: 0.4743218421936035,y: 0.5276893377304077,...    pushup  \n",
       "4                                                NaN    pushup  "
      ]
     },
     "execution_count": 38,
     "metadata": {},
     "output_type": "execute_result"
    }
   ],
   "source": [
    "import warnings\n",
    "import pandas as pd\n",
    "\n",
    "warnings.filterwarnings('ignore')\n",
    "\n",
    "#read data and take a look\n",
    "df = pd.read_csv('imagePoses.csv')\n",
    "df.head()\n"
   ]
  },
  {
   "cell_type": "markdown",
   "metadata": {},
   "source": [
    "### Here is an example of the images used:"
   ]
  },
  {
   "cell_type": "code",
   "execution_count": 69,
   "metadata": {},
   "outputs": [
    {
     "data": {
      "image/jpeg": "[encoded data removed]",
      "text/plain": [
       "<IPython.core.display.Image object>"
      ]
     },
     "execution_count": 69,
     "metadata": {},
     "output_type": "execute_result"
    }
   ],
   "source": [
    "from base64 import b64decode\n",
    "from IPython import display\n",
    "\n",
    "#decode from base64\n",
    "imgB64 = df['base64encoded'][0][2:]\n",
    "imgStr = b64decode(imgB64)\n",
    "display.Image(imgStr)"
   ]
  },
  {
   "cell_type": "markdown",
   "metadata": {},
   "source": [
    "### An example of the image with the pose estimation:"
   ]
  },
  {
   "cell_type": "code",
   "execution_count": 79,
   "metadata": {},
   "outputs": [
    {
     "data": {
      "text/plain": [
       "[['x: 0.7909860014915466',\n",
       "  'y: 0.2797396183013916',\n",
       "  'z: -0.7337014675140381',\n",
       "  'visibility: 0.9999721050262451'],\n",
       " ['x: 0.786137580871582',\n",
       "  'y: 0.24491778016090393',\n",
       "  'z: -0.699945330619812',\n",
       "  'visibility: 0.999929666519165'],\n",
       " ['x: 0.7857223749160767',\n",
       "  'y: 0.2434578835964203',\n",
       "  'z: -0.6998971700668335',\n",
       "  'visibility: 0.9999117851257324'],\n",
       " ['x: 0.7850363254547119',\n",
       "  'y: 0.2417711317539215',\n",
       "  'z: -0.7000457644462585',\n",
       "  'visibility: 0.9999598264694214'],\n",
       " ['x: 0.7788354158401489',\n",
       "  'y: 0.24451936781406403',\n",
       "  'z: -0.7689036726951599',\n",
       "  'visibility: 0.9999768733978271']]"
      ]
     },
     "execution_count": 79,
     "metadata": {},
     "output_type": "execute_result"
    }
   ],
   "source": [
    "#function to clean landmarks\n",
    "def cleanPLs(lm):\n",
    "    lm = lm.replace(\"'\", '').replace('\"', '').strip('][').split(',')\n",
    "    while ('' in lm):\n",
    "        lm.remove('')\n",
    "    cleanLM = []\n",
    "    for i in range(0, len(lm) - 4, 4):\n",
    "        lm[i] = lm[i].strip()\n",
    "        cleanLM.append([lm[i], lm[i+1], lm[i+2], lm[i+3]])\n",
    "    return cleanLM\n",
    "\n",
    "cleanLandmarks = cleanPLs(df['poseLandmarks'][0])\n",
    "cleanLandmarks[:5]"
   ]
  },
  {
   "cell_type": "code",
   "execution_count": 84,
   "metadata": {},
   "outputs": [
    {
     "data": {
      "image/png": "[encoded data removed]",
      "text/plain": [
       "<Figure size 432x288 with 1 Axes>"
      ]
     },
     "metadata": {
      "needs_background": "light"
     },
     "output_type": "display_data"
    }
   ],
   "source": [
    "import numpy as np\n",
    "from matplotlib import pyplot as plt\n",
    "import cv2\n",
    "\n",
    "#convert from bytestring to cv image\n",
    "nparr = np.fromstring(imgStr, np.uint8)\n",
    "imgPose = cv2.imdecode(nparr, cv2.IMREAD_COLOR)\n",
    "\n",
    "#loop thru landmarks\n",
    "for lm in cleanLandmarks:\n",
    "    h, w, c = imgPose.shape\n",
    "    #strip digits and convert to x, y floats\n",
    "    x = float(lm[0].replace('x: ', ''))\n",
    "    y = float(lm[1].replace('y: ', ''))\n",
    "    #multiply and create shapes on image\n",
    "    cx, cy = int(x*w), int(y*h)\n",
    "    cv2.circle(imgPose, (cx, cy), 5, (0,0,255), cv2.FILLED)\n",
    "\n",
    "plt.imshow(imgPose)\n",
    "plt.title('Image with Pose Estimation')\n",
    "plt.axis('off')\n",
    "plt.show()"
   ]
  }
 ],
 "metadata": {
  "kernelspec": {
   "display_name": "base",
   "language": "python",
   "name": "python3"
  },
  "language_info": {
   "codemirror_mode": {
    "name": "ipython",
    "version": 3
   },
   "file_extension": ".py",
   "mimetype": "text/x-python",
   "name": "python",
   "nbconvert_exporter": "python",
   "pygments_lexer": "ipython3",
   "version": "3.7.3"
  }
 },
 "nbformat": 4,
 "nbformat_minor": 2
}
